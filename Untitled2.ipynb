{
  "nbformat": 4,
  "nbformat_minor": 0,
  "metadata": {
    "colab": {
      "provenance": [],
      "authorship_tag": "ABX9TyP/qj2Gg/9gn76T88H9Fc8A",
      "include_colab_link": true
    },
    "kernelspec": {
      "name": "python3",
      "display_name": "Python 3"
    },
    "language_info": {
      "name": "python"
    }
  },
  "cells": [
    {
      "cell_type": "markdown",
      "metadata": {
        "id": "view-in-github",
        "colab_type": "text"
      },
      "source": [
        "<a href=\"https://colab.research.google.com/github/athas-SWE/Newbot-3/blob/main/Untitled2.ipynb\" target=\"_parent\"><img src=\"https://colab.research.google.com/assets/colab-badge.svg\" alt=\"Open In Colab\"/></a>"
      ]
    },
    {
      "cell_type": "code",
      "execution_count": null,
      "metadata": {
        "id": "RZpQNiMLnRTw"
      },
      "outputs": [],
      "source": [
        "import en_core_web_sm\n",
        "import spacy"
      ]
    },
    {
      "cell_type": "code",
      "source": [
        "!pip install pdfplumber"
      ],
      "metadata": {
        "colab": {
          "base_uri": "https://localhost:8080/"
        },
        "id": "3KqyrFnWZKnu",
        "outputId": "5271dc47-178f-489e-aa03-1e4d80e0404d"
      },
      "execution_count": null,
      "outputs": [
        {
          "output_type": "stream",
          "name": "stdout",
          "text": [
            "Looking in indexes: https://pypi.org/simple, https://us-python.pkg.dev/colab-wheels/public/simple/\n",
            "Requirement already satisfied: pdfplumber in /usr/local/lib/python3.10/dist-packages (0.9.0)\n",
            "Requirement already satisfied: pdfminer.six==20221105 in /usr/local/lib/python3.10/dist-packages (from pdfplumber) (20221105)\n",
            "Requirement already satisfied: Pillow>=9.1 in /usr/local/lib/python3.10/dist-packages (from pdfplumber) (9.5.0)\n",
            "Requirement already satisfied: Wand>=0.6.10 in /usr/local/lib/python3.10/dist-packages (from pdfplumber) (0.6.11)\n",
            "Requirement already satisfied: charset-normalizer>=2.0.0 in /usr/local/lib/python3.10/dist-packages (from pdfminer.six==20221105->pdfplumber) (2.0.12)\n",
            "Requirement already satisfied: cryptography>=36.0.0 in /usr/local/lib/python3.10/dist-packages (from pdfminer.six==20221105->pdfplumber) (40.0.2)\n",
            "Requirement already satisfied: cffi>=1.12 in /usr/local/lib/python3.10/dist-packages (from cryptography>=36.0.0->pdfminer.six==20221105->pdfplumber) (1.15.1)\n",
            "Requirement already satisfied: pycparser in /usr/local/lib/python3.10/dist-packages (from cffi>=1.12->cryptography>=36.0.0->pdfminer.six==20221105->pdfplumber) (2.21)\n"
          ]
        }
      ]
    },
    {
      "cell_type": "code",
      "source": [
        "import pdfplumber\n",
        "nlp = en_core_web_sm.load()\n",
        "\n",
        "nlp = spacy.load(\"en_core_web_sm\")\n",
        "pdf = pdfplumber.open('/content/Athas_Ahamed_Resume_07-06-2023-22-42-14.pdf')\n",
        "page = pdf.pages[0]\n",
        "doc = nlp(page.extract_text())\n",
        "print([(X.text, X.label_) for X in doc.ents if X.label_ == 'PERSON'])"
      ],
      "metadata": {
        "colab": {
          "base_uri": "https://localhost:8080/"
        },
        "id": "GWUb-La7Yi9f",
        "outputId": "4e9d07a6-a9fa-4cae-b9b8-c5b946fc3b2a"
      },
      "execution_count": null,
      "outputs": [
        {
          "output_type": "stream",
          "name": "stdout",
          "text": [
            "[('Athas Ahamed\\nProfessional', 'PERSON'), ('Java', 'PERSON'), ('JSON', 'PERSON'), ('Srilanka •', 'PERSON'), ('Colombo', 'PERSON'), ('https://github.com/athas-SWE •', 'PERSON'), ('JSON', 'PERSON'), ('Bsc', 'PERSON'), ('Combined Maths - C', 'PERSON'), ('Frameworks', 'PERSON'), ('Knowledge', 'PERSON'), ('Aws Cloud', 'PERSON'), ('Java', 'PERSON')]\n"
          ]
        }
      ]
    }
  ]
}